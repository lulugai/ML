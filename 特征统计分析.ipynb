{
 "cells": [
  {
   "cell_type": "markdown",
   "metadata": {},
   "source": [
    "### 特征统计分析"
   ]
  },
  {
   "cell_type": "code",
   "execution_count": null,
   "metadata": {
    "collapsed": true
   },
   "outputs": [],
   "source": [
    "%matplotlib inline\n",
    "import os\n",
    "import glob\n",
    "import xgboost\n",
    "import operator\n",
    "import numpy as np\n",
    "from pylab import *\n",
    "import pandas as pd\n",
    "import seaborn as sns\n",
    "import SimpleITK as sitk\n",
    "import matplotlib.pyplot as plt\n",
    "from sklearn.linear_model import LogisticRegression,Lasso,LassoCV, LassoLarsCV, LassoLarsIC\n",
    "from sklearn.neighbors import KNeighborsClassifier\n",
    "from sklearn.metrics import cohen_kappa_score\n",
    "from sklearn.svm import SVC\n",
    "from sklearn.naive_bayes import GaussianNB\n",
    "from sklearn.tree import DecisionTreeClassifier\n",
    "from sklearn.feature_selection import SelectFromModel,RFECV\n",
    "from lightgbm import LGBMClassifier\n",
    "from sklearn.ensemble import RandomForestClassifier,GradientBoostingClassifier, AdaBoostClassifier,VotingClassifier\n",
    "from sklearn.model_selection import GridSearchCV,KFold, cross_val_predict,StratifiedKFold,train_test_split,cross_val_score,LeaveOneOut\n",
    "from sklearn.pipeline import make_pipeline\n",
    "from imblearn.pipeline import Pipeline\n",
    "from sklearn.metrics import confusion_matrix, accuracy_score, precision_score, recall_score, f1_score,plot_confusion_matrix,auc,roc_auc_score,roc_curve,plot_roc_curve,ConfusionMatrixDisplay,mean_squared_error\n",
    "from imblearn.over_sampling import SMOTE,ADASYN\n",
    "from imblearn.combine import SMOTETomek,SMOTEENN\n",
    "from sklearn.preprocessing import StandardScaler,RobustScaler,MinMaxScaler\n",
    "from sklearn.impute import SimpleImputer\n",
    "import missingno as msno\n",
    "from sklearn.decomposition import PCA\n",
    "import warnings\n",
    "warnings.filterwarnings(action='ignore')"
   ]
  },
  {
   "cell_type": "markdown",
   "metadata": {},
   "source": [
    "### 导入数据"
   ]
  },
  {
   "cell_type": "code",
   "execution_count": null,
   "metadata": {
    "scrolled": true
   },
   "outputs": [],
   "source": [
    "df = pd.read_csv('./Selected_features.csv')\n",
    "scaler = StandardScaler()\n",
    "#scaler = MinMaxScaler()\n",
    "df_scaler = scaler.fit_transform(df[df.columns[3:]])\n",
    "df_scaler=pd.concat([df[df.columns[2:3]], pd.DataFrame(df_scaler,columns=df.columns[3:])], axis=1)#拼接列表\n",
    "df_scaler"
   ]
  },
  {
   "cell_type": "markdown",
   "metadata": {},
   "source": [
    "### 绘制箱形图"
   ]
  },
  {
   "cell_type": "code",
   "execution_count": null,
   "metadata": {},
   "outputs": [],
   "source": [
    "plt.figure(figsize=(6,5))\n",
    "sns.boxplot(x='label',y='log-sigma-1-0-mm-3D_firstorder_Kurtosis',hue='stage',data=df_scaler,width=0.5,orient='v')\n",
    "#plt.ylabel('Nuclear grade', fontsize=12)\n",
    "plt.xlabel('Nuclear grade', fontsize=12)\n",
    "plt.xticks(rotation='vertical')\n",
    "plt.show()"
   ]
  },
  {
   "cell_type": "code",
   "execution_count": null,
   "metadata": {},
   "outputs": [],
   "source": [
    "plt.figure(figsize=(6,5))\n",
    "sns.boxplot(x='stage',y='original_firstorder_Skewness',hue='target',data=df_scaler,width=0.5,orient='v')\n",
    "#plt.ylabel('Nuclear grade', fontsize=12)\n",
    "plt.xlabel('original_firstorder_Skewness', fontsize=12)\n",
    "plt.xticks(rotation='vertical')\n",
    "plt.show()"
   ]
  },
  {
   "cell_type": "code",
   "execution_count": null,
   "metadata": {},
   "outputs": [],
   "source": [
    "plt.figure(figsize=(6,5))\n",
    "sns.boxplot(x='stage',y='original_glrlm_ShortRunEmphasis',hue='target',data=df_scaler,width=0.5,orient='v')\n",
    "#plt.ylabel('Nuclear grade', fontsize=12)\n",
    "plt.xlabel('original_glrlm_ShortRunEmphasis', fontsize=12)\n",
    "plt.xticks(rotation='vertical')\n",
    "plt.show()"
   ]
  },
  {
   "cell_type": "code",
   "execution_count": null,
   "metadata": {},
   "outputs": [],
   "source": [
    "plt.figure(figsize=(6,5))\n",
    "sns.boxplot(x='stage',y='original_gldm_DependenceVariance',hue='target',data=df_scaler,width=0.5,orient='v')\n",
    "#plt.ylabel('Nuclear grade', fontsize=12)\n",
    "plt.xlabel('original_gldm_DependenceVariance', fontsize=12)\n",
    "plt.xticks(rotation='vertical')\n",
    "plt.show()"
   ]
  },
  {
   "cell_type": "code",
   "execution_count": null,
   "metadata": {},
   "outputs": [],
   "source": [
    "plt.figure(figsize=(6,5))\n",
    "sns.boxplot(x='stage',y='original_glszm_GrayLevelNonUniformityNormalized',hue='target',data=df_scaler,width=0.5,orient='v')\n",
    "#plt.ylabel('Nuclear grade', fontsize=12)\n",
    "plt.xlabel('original_glszm_GrayLevelNonUniformityNormalized', fontsize=12)\n",
    "plt.xticks(rotation='vertical')\n",
    "plt.show()"
   ]
  },
  {
   "cell_type": "code",
   "execution_count": null,
   "metadata": {},
   "outputs": [],
   "source": [
    "plt.figure(figsize=(6,5))\n",
    "sns.boxplot(x='stage',y='original_glszm_LargeAreaLowGrayLevelEmphasis',hue='target',data=df_scaler,width=0.5,orient='v')\n",
    "#plt.ylabel('Nuclear grade', fontsize=12)\n",
    "plt.xlabel('original_glszm_LargeAreaLowGrayLevelEmphasis', fontsize=12)\n",
    "plt.xticks(rotation='vertical')\n",
    "plt.show()"
   ]
  },
  {
   "cell_type": "code",
   "execution_count": null,
   "metadata": {
    "collapsed": true
   },
   "outputs": [],
   "source": [
    "for i in range(4,104,1):\n",
    "    plt.figure(figsize=(6,5))\n",
    "    sns.boxplot(x='stage',y=df.columns[i:i+1][0],hue='target',data=df_scaler,width=0.5,orient='v')\n",
    "    #plt.ylabel('Nuclear grade', fontsize=12)\n",
    "    #plt.xlabel('Feature', fontsize=12)\n",
    "    plt.xticks(rotation='vertical')\n",
    "    plt.show()"
   ]
  },
  {
   "cell_type": "markdown",
   "metadata": {},
   "source": [
    "### ap特征分析"
   ]
  },
  {
   "cell_type": "code",
   "execution_count": null,
   "metadata": {
    "collapsed": true
   },
   "outputs": [],
   "source": [
    "target=df[df.columns[2:3]]\n",
    "features=df[df.columns[3:]]"
   ]
  },
  {
   "cell_type": "code",
   "execution_count": null,
   "metadata": {
    "scrolled": true
   },
   "outputs": [],
   "source": [
    "#用selectbest对特征做方差分析F检验\n",
    "from sklearn.feature_selection import SelectKBest\n",
    "from sklearn.feature_selection import chi2,f_classif\n",
    "model = SelectKBest(f_classif, k=2)\n",
    "select_feature=model.fit_transform(features, target)\n",
    "scores=model.pvalues_\n",
    "indices=np.argsort(scores)[::-1]\n",
    "new_scores, new_feats = [], []\n",
    "print('Features ANOVA p_value')\n",
    "for i in range(len(scores)):\n",
    "    print(\"%0.2f %s\" % (scores[indices[i]], features.columns[indices[i]]))\n",
    "    new_scores.append(scores[indices[i]])\n",
    "    new_feats.append(features.columns[indices[i]])\n",
    "\n",
    "d = {'features': new_feats, 'p value': new_scores}\n",
    "p_df = pd.DataFrame(d)\n",
    "display(p_df)\n",
    "p_df.to_csv(\"./P_value.csv\", index=False)"
   ]
  },
  {
   "cell_type": "code",
   "execution_count": null,
   "metadata": {
    "collapsed": true
   },
   "outputs": [],
   "source": [
    "#标准差\n",
    "means = grid.cv_results_['mean_test_score']\n",
    "stds = grid.cv_results_['std_test_score']\n",
    "for mean, std, params in zip(means, stds, grid.cv_results_['params']):\n",
    "    print(\"%0.3f (+/-%0.03f) for %r\"\n",
    "            % (mean, std * 2, params))"
   ]
  },
  {
   "cell_type": "code",
   "execution_count": null,
   "metadata": {
    "collapsed": true
   },
   "outputs": [],
   "source": [
    "#计算MCC系数\n",
    "from sklearn.metrics import matthews_corrcoef\n",
    "matthews_corrcoef(y_true, y_pred)"
   ]
  }
 ],
 "metadata": {
  "kernelspec": {
   "display_name": "base",
   "language": "python",
   "name": "python3"
  },
  "language_info": {
   "codemirror_mode": {
    "name": "ipython",
    "version": 3
   },
   "file_extension": ".py",
   "mimetype": "text/x-python",
   "name": "python",
   "nbconvert_exporter": "python",
   "pygments_lexer": "ipython3",
   "version": "3.7.4"
  },
  "toc": {
   "base_numbering": 1,
   "nav_menu": {},
   "number_sections": true,
   "sideBar": true,
   "skip_h1_title": false,
   "title_cell": "Table of Contents",
   "title_sidebar": "Contents",
   "toc_cell": false,
   "toc_position": {},
   "toc_section_display": true,
   "toc_window_display": true
  },
  "vscode": {
   "interpreter": {
    "hash": "ad2bdc8ecc057115af97d19610ffacc2b4e99fae6737bb82f5d7fb13d2f2c186"
   }
  }
 },
 "nbformat": 4,
 "nbformat_minor": 2
}
