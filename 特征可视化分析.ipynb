{
 "cells": [
  {
   "cell_type": "code",
   "execution_count": null,
   "metadata": {
    "collapsed": true
   },
   "outputs": [],
   "source": [
    "%matplotlib inline\n",
    "import os\n",
    "import glob\n",
    "import operator\n",
    "import numpy as np\n",
    "from pylab import *\n",
    "import pandas as pd\n",
    "import seaborn as sns\n",
    "import matplotlib.pyplot as plt\n",
    "from scipy import stats\n",
    "import statsmodels.stats.weightstats as st\n",
    "from sklearn.preprocessing import StandardScaler,RobustScaler,MinMaxScaler"
   ]
  },
  {
   "cell_type": "code",
   "execution_count": null,
   "metadata": {
    "scrolled": true
   },
   "outputs": [],
   "source": [
    "## 导入数据\n",
    "df = pd.read_csv(\"./feature_dist.csv\")\n",
    "display(df)\n"
   ]
  },
  {
   "cell_type": "code",
   "execution_count": null,
   "metadata": {},
   "outputs": [],
   "source": [
    "\n",
    "X_data = df.iloc[:,2:]\n",
    "scaler = StandardScaler()\n",
    "X_data = scaler.fit_transform(X_data)\n",
    "X_data.shape\n",
    "X_df = pd.DataFrame(X_data, columns=df.columns[2:])\n",
    "X_df.insert(0, 'label', df[:]['label'])\n",
    "display(X_df)"
   ]
  },
  {
   "cell_type": "markdown",
   "metadata": {},
   "source": [
    "### 正态性检验"
   ]
  },
  {
   "cell_type": "code",
   "execution_count": null,
   "metadata": {},
   "outputs": [],
   "source": [
    "for i in X_df.columns[1:]:\n",
    "    print(i,' :') \n",
    "    zt = stats.shapiro(X_df[:][i])\n",
    "    alpha = 0.05\n",
    "    if(zt.pvalue < alpha): \n",
    "        print(\"正态性检验的统计量为：\" + str(zt.statistic),\"正态性检验的P值为：\" + str(zt.pvalue),'P<0.05，拒绝原假设，不符合正态分布')\n",
    "    else: \n",
    "        print(\"正态性检验的统计量为：\" + str(zt.statistic),\"正态性检验的P值为：\" + str(zt.pvalue),'P>0.05，不能拒绝原假设，符合正态分布')"
   ]
  },
  {
   "cell_type": "markdown",
   "metadata": {},
   "source": [
    "### 曼惠特尼U检验（两独立样本差异性检验）"
   ]
  },
  {
   "cell_type": "code",
   "execution_count": null,
   "metadata": {},
   "outputs": [],
   "source": [
    "for i in X_df.columns[1:]:\n",
    "    print('特征',i,'：')\n",
    "    fc = stats.mannwhitneyu(X_df.loc[X_df[:][\"label\"] == 1, i], X_df.loc[X_df[:][\"label\"] == 0, i],alternative='two-sided')\n",
    "    print(\"Mann-Whitney 检验的统计量为\" + str(fc.statistic))\n",
    "    print(\"Mann-Whitney 检验的P,值为\" + str(\"%d\"%fc.pvalue))\n",
    "    \n",
    "    alpha = 0.05\n",
    "    if(fc.pvalue < alpha): \n",
    "        print('P<0.05，拒绝原假设，两总体有显著差异。')\n",
    "    else: \n",
    "        print('P>0.05，不能拒绝原假设，两总体无显著差异。')"
   ]
  },
  {
   "cell_type": "code",
   "execution_count": null,
   "metadata": {
    "scrolled": true
   },
   "outputs": [],
   "source": [
    "#查看数据集分布\n",
    "for i in X_df.columns[1:]: \n",
    "    # fig, axes = plt.subplots()\n",
    "    # fig.set_size_inches(10, 5)\n",
    "    plt.figure(figsize=(3, 3))\n",
    "    sns.kdeplot(X_df.loc[X_df[:][\"label\"] == 1, i],legend=False)\n",
    "    plt.xlabel(i,fontsize=12)\n",
    "    plt.show()\n",
    "    # plt.subplots_adjust(wspace=0.2)"
   ]
  },
  {
   "cell_type": "markdown",
   "metadata": {},
   "source": [
    "### 方差齐性检验"
   ]
  },
  {
   "cell_type": "code",
   "execution_count": null,
   "metadata": {},
   "outputs": [],
   "source": [
    "for i in X_df.columns[1:]:\n",
    "    print('特征',i)\n",
    "    W, levene_P = stats.levene(X_df.loc[X_df[:][\"label\"] == 1, i], X_df[:].loc[X_df[:][\"label\"] == 0, i], center='mean')\n",
    "    #print(\"Levene's方差齐性检验的W统计量为\" + str(W))\n",
    "    print(\"Levene's方差齐性检验的P值为\" + str(levene_P))\n",
    "\n",
    "    alpha = 0.05\n",
    "    if(levene_P < alpha): \n",
    "        print('P<0.05，拒绝原假设，两总体方差有显著差异，不满足方差齐性。')\n",
    "    else: \n",
    "        print('P>0.05，不能拒绝原假设，两总体方差无显著差异，满足方差齐性。')"
   ]
  },
  {
   "cell_type": "markdown",
   "metadata": {},
   "source": [
    "### t检验"
   ]
  },
  {
   "cell_type": "code",
   "execution_count": null,
   "metadata": {},
   "outputs": [],
   "source": [
    "for i in X_df.columns[1:11]:\n",
    "    print('特征',i,'：')\n",
    "    t, p_two, df = st.ttest_ind(X_df.loc[X_df[:][\"label\"] == 1, i], X_df.loc[X_df[:][\"label\"] == 0, i])\n",
    "\n",
    "    #print('t=' + str(t))\n",
    "    print('P值=' + str(p_two))\n",
    "    #print('自由度=' + str(df))\n",
    "\n",
    "    alpha = 0.05\n",
    "    if(p_two < alpha): \n",
    "        print('P<0.05，拒绝原假设，平均值有显著差异。')\n",
    "    else: \n",
    "        print('P>0.05，不能拒绝原假设，平均值无显著差异。')"
   ]
  },
  {
   "cell_type": "code",
   "execution_count": null,
   "metadata": {
    "scrolled": true
   },
   "outputs": [],
   "source": [
    "# 差异性检验\n",
    "methods = ['M-U检验', \"t检验\", \"K-W检验\", '方差齐性检验', '曼惠特尼U检验']\n",
    "for method in methods:\n",
    "    p_values=[]\n",
    "    for i in X_df.columns[1:]:\n",
    "        if method == 'M-U检验':\n",
    "            m, p=stats.mannwhitneyu(X_df.loc[X_df[:][\"label\"] == 1, i], X_df.loc[X_df[:][\"label\"] == 0, i])   #M-U检验\n",
    "        elif method == \"t检验\":\n",
    "            t, p, df = st.ttest_ind(X_df.loc[X_df[:][\"label\"] == 1, i], X_df.loc[X_df[:][\"label\"] == 0, i])   #t检验\n",
    "        elif method == \"K-W检验\":\n",
    "            s,p=stats.kruskal(X_df.loc[X_df[:][\"label\"] == 1, i], X_df.loc[X_df[:][\"label\"] == 0, i])   #K-W检验\n",
    "        elif method == '方差齐性检验':\n",
    "            W, p = stats.levene(X_df.loc[X_df[:][\"label\"] == 1, i], X_df[:].loc[X_df[:][\"label\"] == 0, i], center='mean')   #方差齐性检验\n",
    "        elif method == '曼惠特尼U检验':\n",
    "            fc = stats.mannwhitneyu(X_df.loc[X_df[:][\"label\"] == 1, i], X_df.loc[X_df[:][\"label\"] == 0, i],alternative='two-sided') #曼惠特尼U检验\n",
    "            p = fc.pvalue\n",
    "        else:\n",
    "            raise NotImplementedError('no such method')\n",
    "        \n",
    "        p_values.append(p)\n",
    "\n",
    "    a = pd.DataFrame(p_values,index=X_df.columns[1:],columns=[\"p_value\"])\n",
    "    a = a.sort_values(by='p_value',ascending=True,axis=0)\n",
    "    max_p = list(a['p_value'])[-1]\n",
    "    display(a)  \n",
    "    a.to_csv(f'./img_dist/{method}.csv')"
   ]
  },
  {
   "cell_type": "code",
   "execution_count": null,
   "metadata": {
    "scrolled": false
   },
   "outputs": [],
   "source": [
    "plt.figure(figsize = (12,5))\n",
    "sns.set(style=\"ticks\")\n",
    "ax=sns.barplot(x=a.index, y=\"p_value\", data=a, palette=[\"#6495ED\"])\n",
    "ax.spines['right'].set_visible(False)\n",
    "ax.spines['top'].set_visible(False)\n",
    "plt.ylim(0,max_p)\n",
    "plt.xticks(rotation=60,ha='right',fontsize=15) \n",
    "plt.ylabel('P_value',fontsize=15) "
   ]
  },
  {
   "attachments": {},
   "cell_type": "markdown",
   "metadata": {},
   "source": [
    "### 特征取值热图"
   ]
  },
  {
   "cell_type": "code",
   "execution_count": null,
   "metadata": {},
   "outputs": [],
   "source": [
    "xlabel=list(X_df.columns[1:])\n",
    "plt.figure(figsize = (20,5))\n",
    "sns.set()\n",
    "sns.color_palette(\"coolwarm\")\n",
    "ax=sns.heatmap(X_df.iloc[0:,1:],vmin=0, vmax=1,xticklabels=xlabel,yticklabels=False,cmap=\"coolwarm\")\n",
    "cb = ax.figure.colorbar(ax.collections[0]) #显示colorbar\n",
    "cb.ax.tick_params(labelsize=18)  #设置刻度轴字体大小\n",
    "plt.xticks(rotation=60,fontsize=20)  #设置x轴字体大小、旋转角度\n",
    "plt.yticks(rotation=360,fontsize=20)  #设置y轴字体大小\n",
    "plt.xlabel('feature',fontsize=20)  #设置x轴标签字体大小\n",
    "plt.ylabel('value',fontsize=20) \n",
    "# plt.setp(rotation=360, horizontalalignment='right')\n",
    "plt.show()"
   ]
  }
 ],
 "metadata": {
  "kernelspec": {
   "display_name": "base",
   "language": "python",
   "name": "python3"
  },
  "language_info": {
   "codemirror_mode": {
    "name": "ipython",
    "version": 3
   },
   "file_extension": ".py",
   "mimetype": "text/x-python",
   "name": "python",
   "nbconvert_exporter": "python",
   "pygments_lexer": "ipython3",
   "version": "3.8.3"
  },
  "toc": {
   "base_numbering": 1,
   "nav_menu": {},
   "number_sections": true,
   "sideBar": true,
   "skip_h1_title": false,
   "title_cell": "Table of Contents",
   "title_sidebar": "Contents",
   "toc_cell": false,
   "toc_position": {},
   "toc_section_display": true,
   "toc_window_display": true
  },
  "vscode": {
   "interpreter": {
    "hash": "c8496b9a0131ed1d869bea96ef926c74a94aa32d15070fb612e4a237c184f787"
   }
  }
 },
 "nbformat": 4,
 "nbformat_minor": 2
}
